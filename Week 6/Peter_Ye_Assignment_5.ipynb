{
 "cells": [
  {
   "cell_type": "code",
   "execution_count": 2,
   "id": "initial_id",
   "metadata": {
    "collapsed": true,
    "ExecuteTime": {
     "end_time": "2024-02-11T04:26:01.877006Z",
     "start_time": "2024-02-11T04:26:00.949769Z"
    }
   },
   "outputs": [
    {
     "name": "stdout",
     "output_type": "stream",
     "text": [
      "-------------------------------------\n",
      "The following datasets are available:\n",
      "-------------------------------------\n",
      "Dataset Name                                                                            ID    \n",
      "------------                                                                            --    \n",
      "Abalone                                                                                 1     \n",
      "Adult                                                                                   2     \n",
      "Auto MPG                                                                                9     \n",
      "Automobile                                                                              10    \n",
      "Balance Scale                                                                           12    \n",
      "Breast Cancer                                                                           14    \n",
      "Breast Cancer Wisconsin (Original)                                                      15    \n",
      "Breast Cancer Wisconsin (Prognostic)                                                    16    \n",
      "Breast Cancer Wisconsin (Diagnostic)                                                    17    \n",
      "Car Evaluation                                                                          19    \n",
      "Census Income                                                                           20    \n",
      "Credit Approval                                                                         27    \n",
      "Computer Hardware                                                                       29    \n",
      "Covertype                                                                               31    \n",
      "Glass Identification                                                                    42    \n",
      "Heart Disease                                                                           45    \n",
      "Hepatitis                                                                               46    \n",
      "Image Segmentation                                                                      50    \n",
      "Ionosphere                                                                              52    \n",
      "Iris                                                                                    53    \n",
      "Letter Recognition                                                                      59    \n",
      "Liver Disorders                                                                         60    \n",
      "Lung Cancer                                                                             62    \n",
      "Mushroom                                                                                73    \n",
      "Nursery                                                                                 76    \n",
      "Optical Recognition of Handwritten Digits                                               80    \n",
      "Pen-Based Recognition of Handwritten Digits                                             81    \n",
      "Soybean (Large)                                                                         90    \n",
      "Spambase                                                                                94    \n",
      "Tic-Tac-Toe Endgame                                                                     101   \n",
      "Congressional Voting Records                                                            105   \n",
      "Wine                                                                                    109   \n",
      "Yeast                                                                                   110   \n",
      "Zoo                                                                                     111   \n",
      "Statlog (Australian Credit Approval)                                                    143   \n",
      "Statlog (German Credit Data)                                                            144   \n",
      "Statlog (Heart)                                                                         145   \n",
      "Connectionist Bench (Sonar, Mines vs. Rocks)                                            151   \n",
      "MAGIC Gamma Telescope                                                                   159   \n",
      "Forest Fires                                                                            162   \n",
      "Concrete Compressive Strength                                                           165   \n",
      "Wine Quality                                                                            186   \n",
      "Parkinsons Telemonitoring                                                               189   \n",
      "Bank Marketing                                                                          222   \n",
      "ILPD (Indian Liver Patient Dataset)                                                     225   \n",
      "Individual household electric power consumption                                         235   \n",
      "Energy efficiency                                                                       242   \n",
      "Bike Sharing Dataset                                                                    275   \n",
      "Thoracic Surgery Data                                                                   277   \n",
      "Wholesale customers                                                                     292   \n",
      "Diabetes 130-US hospitals for years 1999-2008                                           296   \n",
      "Student Performance                                                                     320   \n",
      "Diabetic Retinopathy Debrecen                                                           329   \n",
      "Default of credit card clients                                                          350   \n",
      "Online Retail                                                                           352   \n",
      "Air Quality                                                                             360   \n",
      "Online Shoppers Purchasing Intention Dataset                                            468   \n",
      "Electrical Grid Stability Simulated Data                                                471   \n",
      "Real estate valuation                                                                   477   \n",
      "Heart failure clinical records                                                          519   \n",
      "Estimation of obesity levels based on eating habits and physical condition              544   \n",
      "Rice (Cammeo and Osmancik)                                                              545   \n",
      "Apartment for rent classified                                                           555   \n",
      "Seoul Bike Sharing Demand                                                               560   \n",
      "Bone marrow transplant: children                                                        565   \n",
      "HCV data                                                                                571   \n",
      "Myocardial infarction complications                                                     579   \n",
      "Dry Bean Dataset                                                                        602   \n",
      "Predict students' dropout and academic success                                          697   \n",
      "Glioma Grading Clinical and Mutation Features                                           759   \n",
      "Sepsis Survival Minimal Clinical Records                                                827   \n",
      "Raisin                                                                                  850   \n",
      "Cirrhosis Patient Survival Prediction                                                   878   \n",
      "SUPPORT2                                                                                880   \n",
      "National Health and Nutrition Health Survey 2013-2014 (NHANES) Age Prediction Subset    887   \n",
      "AIDS Clinical Trials Group Study 175                                                    890   \n",
      "CDC Diabetes Health Indicators                                                          891   \n",
      "Infrared Thermography Temperature                                                       925   \n",
      "National Poll on Healthy Aging (NPHA)                                                   936   \n",
      "Regensburg Pediatric Appendicitis                                                       938   \n",
      "45\n",
      "303\n",
      "This database contains 76 attributes, but all published experiments refer to using a subset of 14 of them.  In particular, the Cleveland database is the only one that has been used by ML researchers to date.  The \"goal\" field refers to the presence of heart disease in the patient.  It is integer valued from 0 (no presence) to 4. Experiments with the Cleveland database have concentrated on simply attempting to distinguish presence (values 1,2,3,4) from absence (value 0).  \n",
      "   \n",
      "The names and social security numbers of the patients were recently removed from the database, replaced with dummy values.\n",
      "\n",
      "One file has been \"processed\", that one containing the Cleveland database.  All four unprocessed files also exist in this directory.\n",
      "\n",
      "To see Test Costs (donated by Peter Turney), please see the folder \"Costs\" \n",
      "        name     role         type demographic  \\\n",
      "0        age  Feature      Integer         Age   \n",
      "1        sex  Feature  Categorical         Sex   \n",
      "2         cp  Feature  Categorical        None   \n",
      "3   trestbps  Feature      Integer        None   \n",
      "4       chol  Feature      Integer        None   \n",
      "5        fbs  Feature  Categorical        None   \n",
      "6    restecg  Feature  Categorical        None   \n",
      "7    thalach  Feature      Integer        None   \n",
      "8      exang  Feature  Categorical        None   \n",
      "9    oldpeak  Feature      Integer        None   \n",
      "10     slope  Feature  Categorical        None   \n",
      "11        ca  Feature      Integer        None   \n",
      "12      thal  Feature  Categorical        None   \n",
      "13       num   Target      Integer        None   \n",
      "\n",
      "                                          description  units missing_values  \n",
      "0                                                None  years             no  \n",
      "1                                                None   None             no  \n",
      "2                                                None   None             no  \n",
      "3   resting blood pressure (on admission to the ho...  mm Hg             no  \n",
      "4                                   serum cholestoral  mg/dl             no  \n",
      "5                     fasting blood sugar > 120 mg/dl   None             no  \n",
      "6                                                None   None             no  \n",
      "7                         maximum heart rate achieved   None             no  \n",
      "8                             exercise induced angina   None             no  \n",
      "9   ST depression induced by exercise relative to ...   None             no  \n",
      "10                                               None   None             no  \n",
      "11  number of major vessels (0-3) colored by flour...   None            yes  \n",
      "12                                               None   None            yes  \n",
      "13                         diagnosis of heart disease   None             no  \n"
     ]
    }
   ],
   "source": [
    "from ucimlrepo import fetch_ucirepo, list_available_datasets\n",
    "\n",
    "# check which datasets can be imported\n",
    "list_available_datasets()\n",
    "\n",
    "# import dataset\n",
    "heart_disease = fetch_ucirepo(id=45)\n",
    "# alternatively: fetch_ucirepo(name='Heart Disease')\n",
    "\n",
    "# access data\n",
    "X = heart_disease.data.features\n",
    "y = heart_disease.data.targets\n",
    "# train model e.g. sklearn.linear_model.LinearRegression().fit(X, y)\n",
    "\n",
    "# access metadata\n",
    "print(heart_disease.metadata.uci_id)\n",
    "print(heart_disease.metadata.num_instances)\n",
    "print(heart_disease.metadata.additional_info.summary)\n",
    "\n",
    "# access variable info in tabular format\n",
    "print(heart_disease.variables)"
   ]
  },
  {
   "cell_type": "code",
   "execution_count": 3,
   "outputs": [],
   "source": [
    "import pandas as pd"
   ],
   "metadata": {
    "collapsed": false,
    "ExecuteTime": {
     "end_time": "2024-02-11T04:26:02.916828Z",
     "start_time": "2024-02-11T04:26:02.909943Z"
    }
   },
   "id": "d88df1e894247dec"
  },
  {
   "cell_type": "code",
   "execution_count": 4,
   "outputs": [],
   "source": [
    "X['num'] = y\n",
    "\n",
    "# Exporting to CSV\n",
    "file_path = 'combined_dataframe.csv' # Specifying the file path\n",
    "X.to_csv(file_path, index=False) # Export without the index"
   ],
   "metadata": {
    "collapsed": false,
    "ExecuteTime": {
     "end_time": "2024-02-11T04:26:03.595397Z",
     "start_time": "2024-02-11T04:26:03.587328Z"
    }
   },
   "id": "6c6e19731badfc5a"
  },
  {
   "cell_type": "code",
   "execution_count": 6,
   "outputs": [
    {
     "name": "stdout",
     "output_type": "stream",
     "text": [
      "                 Generalized Linear Model Regression Results                  \n",
      "==============================================================================\n",
      "Dep. Variable:          heart_disease   No. Observations:                  303\n",
      "Model:                            GLM   Df Residuals:                      302\n",
      "Model Family:                Binomial   Df Model:                            0\n",
      "Link Function:                  Logit   Scale:                          1.0000\n",
      "Method:                          IRLS   Log-Likelihood:                -208.99\n",
      "Date:                Sat, 10 Feb 2024   Deviance:                       417.98\n",
      "Time:                        22:26:26   Pearson chi2:                     303.\n",
      "No. Iterations:                     4   Pseudo R-squ. (CS):              0.000\n",
      "Covariance Type:            nonrobust                                         \n",
      "==============================================================================\n",
      "                 coef    std err          z      P>|z|      [0.025      0.975]\n",
      "------------------------------------------------------------------------------\n",
      "Intercept     -0.1654      0.115     -1.435      0.151      -0.391       0.061\n",
      "==============================================================================\n"
     ]
    }
   ],
   "source": [
    "print(y)"
   ],
   "metadata": {
    "collapsed": false,
    "ExecuteTime": {
     "end_time": "2024-02-11T04:26:26.095826Z",
     "start_time": "2024-02-11T04:26:26.055210Z"
    }
   },
   "id": "66e74d4cb1d8ee23"
  },
  {
   "cell_type": "code",
   "execution_count": 1,
   "outputs": [
    {
     "ename": "NameError",
     "evalue": "name 'data' is not defined",
     "output_type": "error",
     "traceback": [
      "\u001B[0;31m---------------------------------------------------------------------------\u001B[0m",
      "\u001B[0;31mNameError\u001B[0m                                 Traceback (most recent call last)",
      "Cell \u001B[0;32mIn[1], line 6\u001B[0m\n\u001B[1;32m      2\u001B[0m \u001B[38;5;28;01mimport\u001B[39;00m \u001B[38;5;21;01mstatsmodels\u001B[39;00m\u001B[38;5;21;01m.\u001B[39;00m\u001B[38;5;21;01mapi\u001B[39;00m \u001B[38;5;28;01mas\u001B[39;00m \u001B[38;5;21;01msm\u001B[39;00m\n\u001B[1;32m      4\u001B[0m \u001B[38;5;66;03m# Convert 'num' to a binary outcome for the purpose of logistic regression\u001B[39;00m\n\u001B[1;32m      5\u001B[0m \u001B[38;5;66;03m# Assuming 'num' > 0 indicates the presence of heart disease\u001B[39;00m\n\u001B[0;32m----> 6\u001B[0m data[\u001B[38;5;124m'\u001B[39m\u001B[38;5;124mheart_disease\u001B[39m\u001B[38;5;124m'\u001B[39m] \u001B[38;5;241m=\u001B[39m (data[\u001B[38;5;124m'\u001B[39m\u001B[38;5;124mnum\u001B[39m\u001B[38;5;124m'\u001B[39m] \u001B[38;5;241m>\u001B[39m \u001B[38;5;241m0\u001B[39m)\u001B[38;5;241m.\u001B[39mastype(\u001B[38;5;28mint\u001B[39m)\n\u001B[1;32m      8\u001B[0m \u001B[38;5;66;03m# Estimating the intercept-only model\u001B[39;00m\n\u001B[1;32m      9\u001B[0m intercept_only_model \u001B[38;5;241m=\u001B[39m glm(formula\u001B[38;5;241m=\u001B[39m\u001B[38;5;124m\"\u001B[39m\u001B[38;5;124mheart_disease ~ 1\u001B[39m\u001B[38;5;124m\"\u001B[39m, data\u001B[38;5;241m=\u001B[39mdata, family\u001B[38;5;241m=\u001B[39msm\u001B[38;5;241m.\u001B[39mfamilies\u001B[38;5;241m.\u001B[39mBinomial())\u001B[38;5;241m.\u001B[39mfit()\n",
      "\u001B[0;31mNameError\u001B[0m: name 'data' is not defined"
     ]
    }
   ],
   "source": [],
   "metadata": {
    "collapsed": false,
    "ExecuteTime": {
     "end_time": "2024-02-11T04:22:26.573175Z",
     "start_time": "2024-02-11T04:22:22.960317Z"
    }
   },
   "id": "2191d4a2e6481a32"
  }
 ],
 "metadata": {
  "kernelspec": {
   "display_name": "Python 3",
   "language": "python",
   "name": "python3"
  },
  "language_info": {
   "codemirror_mode": {
    "name": "ipython",
    "version": 2
   },
   "file_extension": ".py",
   "mimetype": "text/x-python",
   "name": "python",
   "nbconvert_exporter": "python",
   "pygments_lexer": "ipython2",
   "version": "2.7.6"
  }
 },
 "nbformat": 4,
 "nbformat_minor": 5
}
